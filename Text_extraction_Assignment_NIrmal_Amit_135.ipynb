{
  "nbformat": 4,
  "nbformat_minor": 0,
  "metadata": {
    "colab": {
      "name": "Text_extraction_Assignment_NIrmal_Amit_135.ipynb",
      "provenance": [],
      "collapsed_sections": []
    },
    "kernelspec": {
      "name": "python3",
      "display_name": "Python 3"
    },
    "language_info": {
      "name": "python"
    }
  },
  "cells": [
    {
      "cell_type": "code",
      "execution_count": 1,
      "metadata": {
        "id": "RlhskmokgIhP"
      },
      "outputs": [],
      "source": [
        "!pip install -q snscrape==0.3.4"
      ]
    },
    {
      "cell_type": "code",
      "source": [
        "pip install emoji"
      ],
      "metadata": {
        "id": "R93vAuRIs20y",
        "colab": {
          "base_uri": "https://localhost:8080/"
        },
        "outputId": "8ffd3e0e-3717-42c1-fbf8-db418ad5f3d9"
      },
      "execution_count": 2,
      "outputs": [
        {
          "output_type": "stream",
          "name": "stdout",
          "text": [
            "Collecting emoji\n",
            "  Downloading emoji-1.6.3.tar.gz (174 kB)\n",
            "\u001b[?25l\r\u001b[K     |█▉                              | 10 kB 25.2 MB/s eta 0:00:01\r\u001b[K     |███▊                            | 20 kB 19.1 MB/s eta 0:00:01\r\u001b[K     |█████▋                          | 30 kB 11.3 MB/s eta 0:00:01\r\u001b[K     |███████▌                        | 40 kB 4.0 MB/s eta 0:00:01\r\u001b[K     |█████████▍                      | 51 kB 3.9 MB/s eta 0:00:01\r\u001b[K     |███████████▎                    | 61 kB 4.6 MB/s eta 0:00:01\r\u001b[K     |█████████████▏                  | 71 kB 4.9 MB/s eta 0:00:01\r\u001b[K     |███████████████                 | 81 kB 4.8 MB/s eta 0:00:01\r\u001b[K     |█████████████████               | 92 kB 5.3 MB/s eta 0:00:01\r\u001b[K     |██████████████████▉             | 102 kB 4.5 MB/s eta 0:00:01\r\u001b[K     |████████████████████▊           | 112 kB 4.5 MB/s eta 0:00:01\r\u001b[K     |██████████████████████▋         | 122 kB 4.5 MB/s eta 0:00:01\r\u001b[K     |████████████████████████▌       | 133 kB 4.5 MB/s eta 0:00:01\r\u001b[K     |██████████████████████████▍     | 143 kB 4.5 MB/s eta 0:00:01\r\u001b[K     |████████████████████████████▏   | 153 kB 4.5 MB/s eta 0:00:01\r\u001b[K     |██████████████████████████████  | 163 kB 4.5 MB/s eta 0:00:01\r\u001b[K     |████████████████████████████████| 174 kB 4.5 MB/s eta 0:00:01\r\u001b[K     |████████████████████████████████| 174 kB 4.5 MB/s \n",
            "\u001b[?25hBuilding wheels for collected packages: emoji\n",
            "  Building wheel for emoji (setup.py) ... \u001b[?25l\u001b[?25hdone\n",
            "  Created wheel for emoji: filename=emoji-1.6.3-py3-none-any.whl size=170298 sha256=30210a138baf7b35ec84956720c06b2fd80820dffd4ea13ff7b967a260e20119\n",
            "  Stored in directory: /root/.cache/pip/wheels/03/8b/d7/ad579fbef83c287215c0caab60fb0ae0f30c4d7ce5f580eade\n",
            "Successfully built emoji\n",
            "Installing collected packages: emoji\n",
            "Successfully installed emoji-1.6.3\n"
          ]
        }
      ]
    },
    {
      "cell_type": "code",
      "source": [
        "import os\n",
        "import pandas as pd\n",
        "from datetime import date"
      ],
      "metadata": {
        "id": "hkcnQKaTgqvU"
      },
      "execution_count": 3,
      "outputs": []
    },
    {
      "cell_type": "code",
      "source": [
        "today = date.today()\n",
        "end_date = today"
      ],
      "metadata": {
        "id": "jOpZCz1Qgsa3"
      },
      "execution_count": 4,
      "outputs": []
    },
    {
      "cell_type": "code",
      "source": [
        "from_date = '2021-01-01' \n",
        "# Only uptop 1000 search will fetch\n",
        "max_results = 1000\n",
        "# List of item that need to be searched\n",
        "search_term = ['aap','bsp','bjp','sp','congress']"
      ],
      "metadata": {
        "id": "cbvUCiSRgtLx"
      },
      "execution_count": 5,
      "outputs": []
    },
    {
      "cell_type": "code",
      "source": [
        "'''\n",
        "This will search the listed item in the above mentoined list from twitter\n",
        "It will also create the individual file with the name of listed item from above mentioned each\n",
        "'''\n",
        "for i in range(len(search_term)):\n",
        "  os.system(\"snscrape --format '{content!r}'\"+ f\" --max-results {max_results} --since {from_date} twitter-search '{search_term[i]} until:{end_date}' > {search_term[i]}.txt\")"
      ],
      "metadata": {
        "id": "L0UqCRROhAhQ"
      },
      "execution_count": 6,
      "outputs": []
    },
    {
      "cell_type": "code",
      "source": [
        "#This code will combine all those extracted file in single file named Combo.txt\n",
        "for i in range(len(search_term)):\n",
        "  with open(\"Combo.txt\",'a') as f:\n",
        "    data=open(f'{search_term[i]}.txt','r')\n",
        "    containt=data.read()\n",
        "    data.close()\n",
        "    f.write(containt)"
      ],
      "metadata": {
        "id": "6jPTQRIEhE73"
      },
      "execution_count": 7,
      "outputs": []
    },
    {
      "cell_type": "code",
      "source": [
        "# This function is used to remove all the punctuation from the line\n",
        "import string\n",
        "def remove_pun(line):\n",
        "  txt_nopun=\"\".join([c for c in line if c not in string.punctuation])\n",
        "  return txt_nopun"
      ],
      "metadata": {
        "id": "ADTBzpshPAeH"
      },
      "execution_count": 8,
      "outputs": []
    },
    {
      "cell_type": "code",
      "source": [
        "import re\n",
        "import emoji\n",
        "import csv\n",
        "f=open(\"Combo.txt\")\n",
        "f1=open('extracted_tweets.txt','a')\n",
        "f2=open('clean.txt','a')\n",
        "f1.write(\"text\\n\")\n",
        "for line in f:\n",
        "  #Removes the username \n",
        "  line=re.sub('@[\\w]+',\"\",line)\n",
        "  # This function removes the all the emoji\n",
        "  def remove_emoji(string):\n",
        "    return emoji.get_emoji_regexp().sub(u'', string)\n",
        "  # Remove the emoji\n",
        "  line=remove_emoji(line)\n",
        "  # Remove the punctuation\n",
        "  line=remove_pun(line)\n",
        "  # Writing to extracted_tweets.txt file\n",
        "  f1.write(line)\n",
        "  f2.write(line)\n",
        "f.close()\n",
        "f1.close()\n",
        "# Creating the CSV file for clean data\n",
        "df = pd.read_fwf('extracted_tweets.txt')\n",
        "df.to_csv('extracted_tweets.csv',header=True,index=None)\n",
        "f2.close()"
      ],
      "metadata": {
        "id": "iqNkPeFohL8P"
      },
      "execution_count": 9,
      "outputs": []
    },
    {
      "cell_type": "code",
      "source": [
        "df = pd.read_csv('extracted_tweets.csv')\n",
        "list_name = ['aap','bsp','bjp','sp','congress'] \n",
        "storage = {i:0 for i in list_name}\n",
        "print(storage)\n",
        "n = len(df['text'])\n",
        "print(n)\n",
        "ans=[]\n",
        "for i in range(n):\n",
        "\n",
        "    val=True\n",
        "    data= df['text'].iloc[i]\n",
        "    data = str(data).lower()\n",
        "    for j in list_name:\n",
        "        if j in data:\n",
        "            storage[j]+=1\n",
        "            val = False\n",
        "            \n",
        "    if val:\n",
        "        ans.append(0)\n",
        "    else:\n",
        "        ans.append(1)\n",
        "\n",
        "final_storage=dict()\n",
        "for i in storage.keys():\n",
        "    if storage[i]!=0:\n",
        "        final_storage[i]=storage[i]\n",
        "print(final_storage)\n",
        "df['label'] = ans\n",
        "        \n",
        "df.head(10)\n",
        "df.to_csv('label.csv')\n",
        "df"
      ],
      "metadata": {
        "colab": {
          "base_uri": "https://localhost:8080/",
          "height": 478
        },
        "id": "E8Rcyk6VF2qJ",
        "outputId": "e732cf00-30e4-440e-d400-ffe52fea5f7e"
      },
      "execution_count": 10,
      "outputs": [
        {
          "output_type": "stream",
          "name": "stdout",
          "text": [
            "{'aap': 0, 'bsp': 0, 'bjp': 0, 'sp': 0, 'congress': 0}\n",
            "4961\n",
            "{'aap': 1065, 'bsp': 651, 'bjp': 1233, 'sp': 1276, 'congress': 1165}\n"
          ]
        },
        {
          "output_type": "execute_result",
          "data": {
            "text/html": [
              "\n",
              "  <div id=\"df-efd8bfad-fdaf-4e54-b654-bea12bace5b6\">\n",
              "    <div class=\"colab-df-container\">\n",
              "      <div>\n",
              "<style scoped>\n",
              "    .dataframe tbody tr th:only-of-type {\n",
              "        vertical-align: middle;\n",
              "    }\n",
              "\n",
              "    .dataframe tbody tr th {\n",
              "        vertical-align: top;\n",
              "    }\n",
              "\n",
              "    .dataframe thead th {\n",
              "        text-align: right;\n",
              "    }\n",
              "</style>\n",
              "<table border=\"1\" class=\"dataframe\">\n",
              "  <thead>\n",
              "    <tr style=\"text-align: right;\">\n",
              "      <th></th>\n",
              "      <th>text</th>\n",
              "      <th>label</th>\n",
              "    </tr>\n",
              "  </thead>\n",
              "  <tbody>\n",
              "    <tr>\n",
              "      <th>0</th>\n",
              "      <td>Aap ko bhi Ram Ram ji</td>\n",
              "      <td>1</td>\n",
              "    </tr>\n",
              "    <tr>\n",
              "      <th>1</th>\n",
              "      <td>भँवरे ने खिलाया फूलफूल को ले गया राजकुमार। किस...</td>\n",
              "      <td>1</td>\n",
              "    </tr>\n",
              "    <tr>\n",
              "      <th>2</th>\n",
              "      <td>109シャワーを浴びるu3000อาบน้ำ  àap náamn【単語】n・浴びるu300...</td>\n",
              "      <td>0</td>\n",
              "    </tr>\n",
              "    <tr>\n",
              "      <th>3</th>\n",
              "      <td>Its also why the AAP recommends masking in sch...</td>\n",
              "      <td>1</td>\n",
              "    </tr>\n",
              "    <tr>\n",
              "      <th>4</th>\n",
              "      <td>Punjab EXIT POLL भाजपा और कांग्रेस की लड़ाई मे...</td>\n",
              "      <td>1</td>\n",
              "    </tr>\n",
              "    <tr>\n",
              "      <th>...</th>\n",
              "      <td>...</td>\n",
              "      <td>...</td>\n",
              "    </tr>\n",
              "    <tr>\n",
              "      <th>4956</th>\n",
              "      <td>Well I cant wait until you are defeated and no...</td>\n",
              "      <td>1</td>\n",
              "    </tr>\n",
              "    <tr>\n",
              "      <th>4957</th>\n",
              "      <td>Alfred E Neumann is a moron</td>\n",
              "      <td>0</td>\n",
              "    </tr>\n",
              "    <tr>\n",
              "      <th>4958</th>\n",
              "      <td>Congress will always remain a subversive antin...</td>\n",
              "      <td>1</td>\n",
              "    </tr>\n",
              "    <tr>\n",
              "      <th>4959</th>\n",
              "      <td>When the Republicans gain control of Congress ...</td>\n",
              "      <td>1</td>\n",
              "    </tr>\n",
              "    <tr>\n",
              "      <th>4960</th>\n",
              "      <td>So you wer slaves to congress to release kanim...</td>\n",
              "      <td>1</td>\n",
              "    </tr>\n",
              "  </tbody>\n",
              "</table>\n",
              "<p>4961 rows × 2 columns</p>\n",
              "</div>\n",
              "      <button class=\"colab-df-convert\" onclick=\"convertToInteractive('df-efd8bfad-fdaf-4e54-b654-bea12bace5b6')\"\n",
              "              title=\"Convert this dataframe to an interactive table.\"\n",
              "              style=\"display:none;\">\n",
              "        \n",
              "  <svg xmlns=\"http://www.w3.org/2000/svg\" height=\"24px\"viewBox=\"0 0 24 24\"\n",
              "       width=\"24px\">\n",
              "    <path d=\"M0 0h24v24H0V0z\" fill=\"none\"/>\n",
              "    <path d=\"M18.56 5.44l.94 2.06.94-2.06 2.06-.94-2.06-.94-.94-2.06-.94 2.06-2.06.94zm-11 1L8.5 8.5l.94-2.06 2.06-.94-2.06-.94L8.5 2.5l-.94 2.06-2.06.94zm10 10l.94 2.06.94-2.06 2.06-.94-2.06-.94-.94-2.06-.94 2.06-2.06.94z\"/><path d=\"M17.41 7.96l-1.37-1.37c-.4-.4-.92-.59-1.43-.59-.52 0-1.04.2-1.43.59L10.3 9.45l-7.72 7.72c-.78.78-.78 2.05 0 2.83L4 21.41c.39.39.9.59 1.41.59.51 0 1.02-.2 1.41-.59l7.78-7.78 2.81-2.81c.8-.78.8-2.07 0-2.86zM5.41 20L4 18.59l7.72-7.72 1.47 1.35L5.41 20z\"/>\n",
              "  </svg>\n",
              "      </button>\n",
              "      \n",
              "  <style>\n",
              "    .colab-df-container {\n",
              "      display:flex;\n",
              "      flex-wrap:wrap;\n",
              "      gap: 12px;\n",
              "    }\n",
              "\n",
              "    .colab-df-convert {\n",
              "      background-color: #E8F0FE;\n",
              "      border: none;\n",
              "      border-radius: 50%;\n",
              "      cursor: pointer;\n",
              "      display: none;\n",
              "      fill: #1967D2;\n",
              "      height: 32px;\n",
              "      padding: 0 0 0 0;\n",
              "      width: 32px;\n",
              "    }\n",
              "\n",
              "    .colab-df-convert:hover {\n",
              "      background-color: #E2EBFA;\n",
              "      box-shadow: 0px 1px 2px rgba(60, 64, 67, 0.3), 0px 1px 3px 1px rgba(60, 64, 67, 0.15);\n",
              "      fill: #174EA6;\n",
              "    }\n",
              "\n",
              "    [theme=dark] .colab-df-convert {\n",
              "      background-color: #3B4455;\n",
              "      fill: #D2E3FC;\n",
              "    }\n",
              "\n",
              "    [theme=dark] .colab-df-convert:hover {\n",
              "      background-color: #434B5C;\n",
              "      box-shadow: 0px 1px 3px 1px rgba(0, 0, 0, 0.15);\n",
              "      filter: drop-shadow(0px 1px 2px rgba(0, 0, 0, 0.3));\n",
              "      fill: #FFFFFF;\n",
              "    }\n",
              "  </style>\n",
              "\n",
              "      <script>\n",
              "        const buttonEl =\n",
              "          document.querySelector('#df-efd8bfad-fdaf-4e54-b654-bea12bace5b6 button.colab-df-convert');\n",
              "        buttonEl.style.display =\n",
              "          google.colab.kernel.accessAllowed ? 'block' : 'none';\n",
              "\n",
              "        async function convertToInteractive(key) {\n",
              "          const element = document.querySelector('#df-efd8bfad-fdaf-4e54-b654-bea12bace5b6');\n",
              "          const dataTable =\n",
              "            await google.colab.kernel.invokeFunction('convertToInteractive',\n",
              "                                                     [key], {});\n",
              "          if (!dataTable) return;\n",
              "\n",
              "          const docLinkHtml = 'Like what you see? Visit the ' +\n",
              "            '<a target=\"_blank\" href=https://colab.research.google.com/notebooks/data_table.ipynb>data table notebook</a>'\n",
              "            + ' to learn more about interactive tables.';\n",
              "          element.innerHTML = '';\n",
              "          dataTable['output_type'] = 'display_data';\n",
              "          await google.colab.output.renderOutput(dataTable, element);\n",
              "          const docLink = document.createElement('div');\n",
              "          docLink.innerHTML = docLinkHtml;\n",
              "          element.appendChild(docLink);\n",
              "        }\n",
              "      </script>\n",
              "    </div>\n",
              "  </div>\n",
              "  "
            ],
            "text/plain": [
              "                                                   text  label\n",
              "0                                 Aap ko bhi Ram Ram ji      1\n",
              "1     भँवरे ने खिलाया फूलफूल को ले गया राजकुमार। किस...      1\n",
              "2     109シャワーを浴びるu3000อาบน้ำ  àap náamn【単語】n・浴びるu300...      0\n",
              "3     Its also why the AAP recommends masking in sch...      1\n",
              "4     Punjab EXIT POLL भाजपा और कांग्रेस की लड़ाई मे...      1\n",
              "...                                                 ...    ...\n",
              "4956  Well I cant wait until you are defeated and no...      1\n",
              "4957                        Alfred E Neumann is a moron      0\n",
              "4958  Congress will always remain a subversive antin...      1\n",
              "4959  When the Republicans gain control of Congress ...      1\n",
              "4960  So you wer slaves to congress to release kanim...      1\n",
              "\n",
              "[4961 rows x 2 columns]"
            ]
          },
          "metadata": {},
          "execution_count": 10
        }
      ]
    },
    {
      "cell_type": "code",
      "source": [
        "df[\"label\"].value_counts()"
      ],
      "metadata": {
        "colab": {
          "base_uri": "https://localhost:8080/"
        },
        "id": "HCxHGXPgGBka",
        "outputId": "1355d8c7-216e-4c99-d861-db27d3f7b436"
      },
      "execution_count": 11,
      "outputs": [
        {
          "output_type": "execute_result",
          "data": {
            "text/plain": [
              "1    3655\n",
              "0    1306\n",
              "Name: label, dtype: int64"
            ]
          },
          "metadata": {},
          "execution_count": 11
        }
      ]
    },
    {
      "cell_type": "code",
      "source": [
        "print(df.info())"
      ],
      "metadata": {
        "colab": {
          "base_uri": "https://localhost:8080/"
        },
        "id": "_AECmxdYH7pk",
        "outputId": "5dfa939e-5a0d-4943-df76-30f3c1a0f61f"
      },
      "execution_count": 13,
      "outputs": [
        {
          "output_type": "stream",
          "name": "stdout",
          "text": [
            "<class 'pandas.core.frame.DataFrame'>\n",
            "RangeIndex: 4961 entries, 0 to 4960\n",
            "Data columns (total 2 columns):\n",
            " #   Column  Non-Null Count  Dtype \n",
            "---  ------  --------------  ----- \n",
            " 0   text    4961 non-null   object\n",
            " 1   label   4961 non-null   int64 \n",
            "dtypes: int64(1), object(1)\n",
            "memory usage: 77.6+ KB\n",
            "None\n"
          ]
        }
      ]
    }
  ]
}